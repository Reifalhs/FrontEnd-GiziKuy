{
 "cells": [
  {
   "cell_type": "code",
   "execution_count": null,
   "metadata": {
    "id": "J6cNDSSay8pu"
   },
   "outputs": [
    {
     "ename": "",
     "evalue": "",
     "output_type": "error",
     "traceback": [
      "\u001b[1;31mRunning cells with 'Python 3.12.7' requires the ipykernel package.\n",
      "\u001b[1;31mRun the following command to install 'ipykernel' into the Python environment. \n",
      "\u001b[1;31mCommand: '/bin/python -m pip install ipykernel -U --user --force-reinstall'"
     ]
    }
   ],
   "source": [
    "import numpy as np\n",
    "import pandas as pd\n",
    "import os\n",
    "import seaborn as sns\n",
    "import matplotlib.pyplot as plt\n",
    "from sklearn.model_selection import train_test_split\n",
    "from sklearn.neighbors import KNeighborsClassifier\n",
    "from sklearn.metrics import accuracy_score, classification_report, confusion_matrix\n",
    "from sklearn.model_selection import cross_val_score\n",
    "import joblib\n",
    "import pickle\n",
    "import requests\n",
    "import json"
   ]
  },
  {
   "cell_type": "code",
   "execution_count": null,
   "metadata": {
    "colab": {
     "base_uri": "https://localhost:8080/",
     "height": 424
    },
    "id": "rGfAyWL7zFdu",
    "outputId": "f8050a48-b537-446c-b3d8-51b574bde30c"
   },
   "outputs": [],
   "source": [
    "# 1. Load dataset\n",
    "df = pd.read_csv('data_balita.csv')\n",
    "print(df.head())"
   ]
  },
  {
   "cell_type": "code",
   "execution_count": 8,
   "metadata": {
    "id": "FYP9d4yszXGj"
   },
   "outputs": [],
   "source": [
    "# 2. Preprocessing data\n",
    "# mengkodekan jenis kelamin\n",
    "df['Jenis Kelamin'] = df['Jenis Kelamin'].map({'laki-laki': 0, 'perempuan': 1})\n",
    "# mengkodekan status gizi\n",
    "df['Status Gizi'] = df['Status Gizi'].map({'severely stunted': 'stunting', 'stunted': 'stunting', 'normal': 'normal', 'tinggi': 'tinggi'})\n"
   ]
  },
  {
   "cell_type": "code",
   "execution_count": null,
   "metadata": {
    "colab": {
     "base_uri": "https://localhost:8080/",
     "height": 1000
    },
    "id": "RmbLNBiHzbhS",
    "outputId": "f7d29a72-8970-4263-cbd7-f0522777290a"
   },
   "outputs": [],
   "source": [
    "# 3. Visualisasi data\n",
    "sns.countplot(x='Status Gizi', data=df)\n",
    "plt.title('Distribusi Status Gizi')\n",
    "plt.show()\n",
    "\n",
    "sns.pairplot(df, hue='Status Gizi')\n",
    "plt.show()"
   ]
  },
  {
   "cell_type": "code",
   "execution_count": 10,
   "metadata": {},
   "outputs": [],
   "source": [
    "# 4. Memisahkan fitur dan target\n",
    "X = df.drop('Status Gizi', axis=1)\n",
    "y = df['Status Gizi']"
   ]
  },
  {
   "cell_type": "code",
   "execution_count": 11,
   "metadata": {
    "colab": {
     "base_uri": "https://localhost:8080/",
     "height": 228
    },
    "id": "yVRrErvz37Y_",
    "outputId": "84b7a4d5-bde5-47c5-c7c0-21e8c2c00cfa"
   },
   "outputs": [],
   "source": [
    "# Membagi dataset menjadi data latih dan data uji\n",
    "X_train, X_test, y_train, y_test = train_test_split(X, y, test_size=0.2, random_state=42)"
   ]
  },
  {
   "cell_type": "code",
   "execution_count": null,
   "metadata": {
    "id": "Ysw6Vg2vzibz"
   },
   "outputs": [],
   "source": [
    "# 5. Memodelkan model KNN\n",
    "# membuat objek KNN dengan k=3\n",
    "knn = KNeighborsClassifier(algorithm='kd_tree', n_neighbors=3)\n",
    "# melatih model KNN dengan data latih\n",
    "knn.fit(X_train, y_train)"
   ]
  },
  {
   "cell_type": "code",
   "execution_count": null,
   "metadata": {
    "colab": {
     "base_uri": "https://localhost:8080/",
     "height": 75
    },
    "id": "6UFESNxvzpQ5",
    "outputId": "e46ec100-7cd0-4470-f1c6-d120e2516f0e"
   },
   "outputs": [],
   "source": [
    "# 6. Mengevaluasi model\n",
    "# membuat prediksi dengan data uji\n",
    "y_pred = knn.predict(X_test)\n",
    "\n",
    "# menghitung akurasi model\n",
    "accuracy = accuracy_score(y_test, y_pred)\n",
    "print('Akurasi model KNN:', accuracy)\n",
    "\n",
    "# Menampilkan confusion matrix dan classification report\n",
    "print('Confusion Matrix:')\n",
    "cm = confusion_matrix(y_test, y_pred)\n",
    "print(cm)\n",
    "\n",
    "print('Classification Report:')\n",
    "print(classification_report(y_test, y_pred))"
   ]
  },
  {
   "cell_type": "code",
   "execution_count": null,
   "metadata": {
    "colab": {
     "base_uri": "https://localhost:8080/"
    },
    "id": "gnCJcnTG0D8c",
    "outputId": "ef544979-0999-4d5c-f6a0-a4f6434ae569"
   },
   "outputs": [],
   "source": [
    "# Visualisasi confusion matrix\n",
    "plt.figure(figsize=(10, 7))\n",
    "sns.heatmap(cm, annot=True, fmt='d', cmap='Blues', xticklabels=['stunting', 'normal', 'tinggi'], yticklabels=['stunting', 'normal', 'tinggi'])\n",
    "plt.xlabel('Predicted')\n",
    "plt.ylabel('True')\n",
    "plt.title('Confusion Matrix')\n",
    "plt.show()"
   ]
  },
  {
   "cell_type": "code",
   "execution_count": null,
   "metadata": {
    "colab": {
     "base_uri": "https://localhost:8080/"
    },
    "id": "35XAdcZY0KLT",
    "outputId": "a28e1eef-5627-42ad-f241-8c848e9c2b12"
   },
   "outputs": [],
   "source": [
    "# Cross-validation\n",
    "cross_val_scores = cross_val_score(knn, X, y, cv=5)\n",
    "print('Cross-validation scores:', cross_val_scores)\n",
    "print('Mean cross-validation accuracy:', np.mean(cross_val_scores))"
   ]
  },
  {
   "cell_type": "code",
   "execution_count": null,
   "metadata": {},
   "outputs": [],
   "source": [
    "joblib.dump(knn, \"model.pkl\")\n",
    "print(\"Model telah disimpan sebagai model.pkl\")"
   ]
  },
  {
   "cell_type": "code",
   "execution_count": 16,
   "metadata": {},
   "outputs": [],
   "source": [
    "url = \"http://127.0.0.1:8000/predict\""
   ]
  },
  {
   "cell_type": "code",
   "execution_count": 17,
   "metadata": {},
   "outputs": [],
   "source": [
    "def kirim_permintaan(data):\n",
    "    headers = {\"Content-Type\": \"application/json\"}\n",
    "    response = requests.post(url, data=json.dumps(data), headers=headers)\n",
    "    return response.json()"
   ]
  },
  {
   "cell_type": "code",
   "execution_count": 18,
   "metadata": {},
   "outputs": [],
   "source": [
    "data_contoh = {\n",
    "    \"umur\": 20,\n",
    "    \"jenis_kelamin\": \"perempuan\",\n",
    "    \"tinggi_badan\": 77.0\n",
    "}"
   ]
  },
  {
   "cell_type": "code",
   "execution_count": null,
   "metadata": {},
   "outputs": [],
   "source": [
    "hasil = kirim_permintaan(data_contoh)\n",
    "print(\"Hasil Prediksi:\", hasil)"
   ]
  },
  {
   "cell_type": "code",
   "execution_count": null,
   "metadata": {
    "colab": {
     "base_uri": "https://localhost:8080/"
    },
    "id": "udv68QnH0ZbG",
    "outputId": "2a41215b-71cd-4036-dcf6-8279435c8d8e"
   },
   "outputs": [],
   "source": [
    "# 7. Test / Simulasi\n",
    "test = pd.DataFrame({'Umur (bulan)': [20], 'Jenis Kelamin': [1], 'Tinggi Badan (cm)': [77]})\n",
    "pred = knn.predict(test)\n",
    "print(\"Hasil Tes = {}\".format(np.array(pred)))"
   ]
  },
  {
   "cell_type": "code",
   "execution_count": null,
   "metadata": {},
   "outputs": [],
   "source": [
    "import pickle \n",
    "\n",
    "filename = 'data_balita.sav'\n",
    "pickle.dump(knn, open(filename, 'wb'))"
   ]
  }
 ],
 "metadata": {
  "colab": {
   "provenance": [],
   "toc_visible": true
  },
  "kernelspec": {
   "display_name": "Python 3",
   "language": "python",
   "name": "python3"
  },
  "language_info": {
   "codemirror_mode": {
    "name": "ipython",
    "version": 3
   },
   "file_extension": ".py",
   "mimetype": "text/x-python",
   "name": "python",
   "nbconvert_exporter": "python",
   "pygments_lexer": "ipython3",
   "version": "3.12.7"
  }
 },
 "nbformat": 4,
 "nbformat_minor": 0
}
